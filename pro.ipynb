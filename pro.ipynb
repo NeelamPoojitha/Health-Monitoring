{
    "nbformat_minor": 2, 
    "cells": [
        {
            "execution_count": 47, 
            "cell_type": "code", 
            "metadata": {}, 
            "outputs": [], 
            "source": "import pandas as pd\nimport numpy as np"
        }, 
        {
            "execution_count": 48, 
            "cell_type": "code", 
            "metadata": {}, 
            "outputs": [], 
            "source": "import matplotlib.pyplot as mp\n"
        }, 
        {
            "execution_count": 2, 
            "cell_type": "code", 
            "metadata": {}, 
            "outputs": [
                {
                    "execution_count": 2, 
                    "metadata": {}, 
                    "data": {
                        "text/html": "<div>\n<style scoped>\n    .dataframe tbody tr th:only-of-type {\n        vertical-align: middle;\n    }\n\n    .dataframe tbody tr th {\n        vertical-align: top;\n    }\n\n    .dataframe thead th {\n        text-align: right;\n    }\n</style>\n<table border=\"1\" class=\"dataframe\">\n  <thead>\n    <tr style=\"text-align: right;\">\n      <th></th>\n      <th>SBP</th>\n      <th>DBP</th>\n      <th>Pulse</th>\n      <th>Temperature</th>\n      <th>Level</th>\n    </tr>\n  </thead>\n  <tbody>\n    <tr>\n      <th>0</th>\n      <td>120</td>\n      <td>80</td>\n      <td>80</td>\n      <td>98</td>\n      <td>0</td>\n    </tr>\n    <tr>\n      <th>1</th>\n      <td>140</td>\n      <td>83</td>\n      <td>75</td>\n      <td>100</td>\n      <td>1</td>\n    </tr>\n    <tr>\n      <th>2</th>\n      <td>155</td>\n      <td>100</td>\n      <td>92</td>\n      <td>104</td>\n      <td>2</td>\n    </tr>\n    <tr>\n      <th>3</th>\n      <td>115</td>\n      <td>82</td>\n      <td>79</td>\n      <td>97</td>\n      <td>0</td>\n    </tr>\n    <tr>\n      <th>4</th>\n      <td>119</td>\n      <td>79</td>\n      <td>85</td>\n      <td>102</td>\n      <td>1</td>\n    </tr>\n  </tbody>\n</table>\n</div>", 
                        "text/plain": "   SBP  DBP  Pulse  Temperature  Level\n0  120   80     80           98      0\n1  140   83     75          100      1\n2  155  100     92          104      2\n3  115   82     79           97      0\n4  119   79     85          102      1"
                    }, 
                    "output_type": "execute_result"
                }
            ], 
            "source": "# The code was removed by Watson Studio for sharing."
        }, 
        {
            "execution_count": 3, 
            "cell_type": "code", 
            "metadata": {}, 
            "outputs": [
                {
                    "execution_count": 3, 
                    "metadata": {}, 
                    "data": {
                        "text/html": "<div>\n<style scoped>\n    .dataframe tbody tr th:only-of-type {\n        vertical-align: middle;\n    }\n\n    .dataframe tbody tr th {\n        vertical-align: top;\n    }\n\n    .dataframe thead th {\n        text-align: right;\n    }\n</style>\n<table border=\"1\" class=\"dataframe\">\n  <thead>\n    <tr style=\"text-align: right;\">\n      <th></th>\n      <th>SBP</th>\n      <th>DBP</th>\n      <th>Pulse</th>\n      <th>Temperature</th>\n      <th>Level</th>\n    </tr>\n  </thead>\n  <tbody>\n    <tr>\n      <th>0</th>\n      <td>120</td>\n      <td>80</td>\n      <td>80</td>\n      <td>98</td>\n      <td>0</td>\n    </tr>\n    <tr>\n      <th>1</th>\n      <td>140</td>\n      <td>83</td>\n      <td>75</td>\n      <td>100</td>\n      <td>1</td>\n    </tr>\n    <tr>\n      <th>2</th>\n      <td>155</td>\n      <td>100</td>\n      <td>92</td>\n      <td>104</td>\n      <td>2</td>\n    </tr>\n    <tr>\n      <th>3</th>\n      <td>115</td>\n      <td>82</td>\n      <td>79</td>\n      <td>97</td>\n      <td>0</td>\n    </tr>\n    <tr>\n      <th>4</th>\n      <td>119</td>\n      <td>79</td>\n      <td>85</td>\n      <td>102</td>\n      <td>1</td>\n    </tr>\n    <tr>\n      <th>5</th>\n      <td>95</td>\n      <td>65</td>\n      <td>75</td>\n      <td>101</td>\n      <td>2</td>\n    </tr>\n    <tr>\n      <th>6</th>\n      <td>116</td>\n      <td>75</td>\n      <td>70</td>\n      <td>99</td>\n      <td>0</td>\n    </tr>\n    <tr>\n      <th>7</th>\n      <td>100</td>\n      <td>60</td>\n      <td>79</td>\n      <td>98</td>\n      <td>2</td>\n    </tr>\n    <tr>\n      <th>8</th>\n      <td>119</td>\n      <td>78</td>\n      <td>68</td>\n      <td>100</td>\n      <td>0</td>\n    </tr>\n    <tr>\n      <th>9</th>\n      <td>110</td>\n      <td>69</td>\n      <td>65</td>\n      <td>102</td>\n      <td>2</td>\n    </tr>\n    <tr>\n      <th>10</th>\n      <td>117</td>\n      <td>73</td>\n      <td>76</td>\n      <td>99</td>\n      <td>0</td>\n    </tr>\n    <tr>\n      <th>11</th>\n      <td>130</td>\n      <td>88</td>\n      <td>84</td>\n      <td>101</td>\n      <td>1</td>\n    </tr>\n    <tr>\n      <th>12</th>\n      <td>145</td>\n      <td>90</td>\n      <td>82</td>\n      <td>104</td>\n      <td>2</td>\n    </tr>\n    <tr>\n      <th>13</th>\n      <td>118</td>\n      <td>75</td>\n      <td>75</td>\n      <td>99</td>\n      <td>0</td>\n    </tr>\n    <tr>\n      <th>14</th>\n      <td>114</td>\n      <td>76</td>\n      <td>69</td>\n      <td>98</td>\n      <td>0</td>\n    </tr>\n    <tr>\n      <th>15</th>\n      <td>105</td>\n      <td>65</td>\n      <td>60</td>\n      <td>102</td>\n      <td>2</td>\n    </tr>\n    <tr>\n      <th>16</th>\n      <td>132</td>\n      <td>89</td>\n      <td>76</td>\n      <td>101</td>\n      <td>1</td>\n    </tr>\n    <tr>\n      <th>17</th>\n      <td>135</td>\n      <td>87</td>\n      <td>76</td>\n      <td>100</td>\n      <td>1</td>\n    </tr>\n    <tr>\n      <th>18</th>\n      <td>140</td>\n      <td>91</td>\n      <td>80</td>\n      <td>102</td>\n      <td>2</td>\n    </tr>\n    <tr>\n      <th>19</th>\n      <td>119</td>\n      <td>78</td>\n      <td>70</td>\n      <td>99</td>\n      <td>0</td>\n    </tr>\n    <tr>\n      <th>20</th>\n      <td>116</td>\n      <td>77</td>\n      <td>74</td>\n      <td>98</td>\n      <td>0</td>\n    </tr>\n    <tr>\n      <th>21</th>\n      <td>106</td>\n      <td>68</td>\n      <td>79</td>\n      <td>103</td>\n      <td>2</td>\n    </tr>\n    <tr>\n      <th>22</th>\n      <td>129</td>\n      <td>89</td>\n      <td>82</td>\n      <td>100</td>\n      <td>1</td>\n    </tr>\n    <tr>\n      <th>23</th>\n      <td>126</td>\n      <td>90</td>\n      <td>80</td>\n      <td>101</td>\n      <td>1</td>\n    </tr>\n    <tr>\n      <th>24</th>\n      <td>147</td>\n      <td>95</td>\n      <td>84</td>\n      <td>104</td>\n      <td>2</td>\n    </tr>\n    <tr>\n      <th>25</th>\n      <td>116</td>\n      <td>78</td>\n      <td>70</td>\n      <td>98</td>\n      <td>0</td>\n    </tr>\n    <tr>\n      <th>26</th>\n      <td>118</td>\n      <td>76</td>\n      <td>68</td>\n      <td>99</td>\n      <td>0</td>\n    </tr>\n    <tr>\n      <th>27</th>\n      <td>128</td>\n      <td>87</td>\n      <td>80</td>\n      <td>100</td>\n      <td>1</td>\n    </tr>\n    <tr>\n      <th>28</th>\n      <td>130</td>\n      <td>85</td>\n      <td>82</td>\n      <td>101</td>\n      <td>1</td>\n    </tr>\n    <tr>\n      <th>29</th>\n      <td>148</td>\n      <td>92</td>\n      <td>84</td>\n      <td>104</td>\n      <td>2</td>\n    </tr>\n    <tr>\n      <th>...</th>\n      <td>...</td>\n      <td>...</td>\n      <td>...</td>\n      <td>...</td>\n      <td>...</td>\n    </tr>\n    <tr>\n      <th>119</th>\n      <td>119</td>\n      <td>80</td>\n      <td>73</td>\n      <td>99</td>\n      <td>0</td>\n    </tr>\n    <tr>\n      <th>120</th>\n      <td>119</td>\n      <td>79</td>\n      <td>70</td>\n      <td>98</td>\n      <td>0</td>\n    </tr>\n    <tr>\n      <th>121</th>\n      <td>125</td>\n      <td>85</td>\n      <td>75</td>\n      <td>100</td>\n      <td>1</td>\n    </tr>\n    <tr>\n      <th>122</th>\n      <td>126</td>\n      <td>87</td>\n      <td>77</td>\n      <td>101</td>\n      <td>1</td>\n    </tr>\n    <tr>\n      <th>123</th>\n      <td>128</td>\n      <td>88</td>\n      <td>79</td>\n      <td>101</td>\n      <td>1</td>\n    </tr>\n    <tr>\n      <th>124</th>\n      <td>130</td>\n      <td>85</td>\n      <td>76</td>\n      <td>100</td>\n      <td>1</td>\n    </tr>\n    <tr>\n      <th>125</th>\n      <td>148</td>\n      <td>90</td>\n      <td>76</td>\n      <td>101</td>\n      <td>2</td>\n    </tr>\n    <tr>\n      <th>126</th>\n      <td>147</td>\n      <td>92</td>\n      <td>80</td>\n      <td>99</td>\n      <td>2</td>\n    </tr>\n    <tr>\n      <th>127</th>\n      <td>153</td>\n      <td>101</td>\n      <td>81</td>\n      <td>102</td>\n      <td>2</td>\n    </tr>\n    <tr>\n      <th>128</th>\n      <td>151</td>\n      <td>99</td>\n      <td>82</td>\n      <td>103</td>\n      <td>2</td>\n    </tr>\n    <tr>\n      <th>129</th>\n      <td>118</td>\n      <td>78</td>\n      <td>68</td>\n      <td>98</td>\n      <td>0</td>\n    </tr>\n    <tr>\n      <th>130</th>\n      <td>119</td>\n      <td>79</td>\n      <td>70</td>\n      <td>98</td>\n      <td>0</td>\n    </tr>\n    <tr>\n      <th>131</th>\n      <td>120</td>\n      <td>78</td>\n      <td>71</td>\n      <td>99</td>\n      <td>0</td>\n    </tr>\n    <tr>\n      <th>132</th>\n      <td>119</td>\n      <td>78</td>\n      <td>74</td>\n      <td>98</td>\n      <td>0</td>\n    </tr>\n    <tr>\n      <th>133</th>\n      <td>98</td>\n      <td>64</td>\n      <td>76</td>\n      <td>98</td>\n      <td>2</td>\n    </tr>\n    <tr>\n      <th>134</th>\n      <td>104</td>\n      <td>67</td>\n      <td>84</td>\n      <td>103</td>\n      <td>2</td>\n    </tr>\n    <tr>\n      <th>135</th>\n      <td>106</td>\n      <td>62</td>\n      <td>78</td>\n      <td>102</td>\n      <td>2</td>\n    </tr>\n    <tr>\n      <th>136</th>\n      <td>130</td>\n      <td>87</td>\n      <td>76</td>\n      <td>100</td>\n      <td>1</td>\n    </tr>\n    <tr>\n      <th>137</th>\n      <td>116</td>\n      <td>78</td>\n      <td>73</td>\n      <td>98</td>\n      <td>0</td>\n    </tr>\n    <tr>\n      <th>138</th>\n      <td>118</td>\n      <td>79</td>\n      <td>69</td>\n      <td>98</td>\n      <td>0</td>\n    </tr>\n    <tr>\n      <th>139</th>\n      <td>117</td>\n      <td>77</td>\n      <td>74</td>\n      <td>98</td>\n      <td>0</td>\n    </tr>\n    <tr>\n      <th>140</th>\n      <td>134</td>\n      <td>86</td>\n      <td>78</td>\n      <td>100</td>\n      <td>1</td>\n    </tr>\n    <tr>\n      <th>141</th>\n      <td>136</td>\n      <td>87</td>\n      <td>80</td>\n      <td>101</td>\n      <td>1</td>\n    </tr>\n    <tr>\n      <th>142</th>\n      <td>139</td>\n      <td>88</td>\n      <td>81</td>\n      <td>100</td>\n      <td>1</td>\n    </tr>\n    <tr>\n      <th>143</th>\n      <td>147</td>\n      <td>94</td>\n      <td>79</td>\n      <td>100</td>\n      <td>2</td>\n    </tr>\n    <tr>\n      <th>144</th>\n      <td>154</td>\n      <td>99</td>\n      <td>83</td>\n      <td>103</td>\n      <td>2</td>\n    </tr>\n    <tr>\n      <th>145</th>\n      <td>118</td>\n      <td>77</td>\n      <td>73</td>\n      <td>98</td>\n      <td>0</td>\n    </tr>\n    <tr>\n      <th>146</th>\n      <td>125</td>\n      <td>87</td>\n      <td>79</td>\n      <td>102</td>\n      <td>1</td>\n    </tr>\n    <tr>\n      <th>147</th>\n      <td>132</td>\n      <td>88</td>\n      <td>78</td>\n      <td>101</td>\n      <td>1</td>\n    </tr>\n    <tr>\n      <th>148</th>\n      <td>118</td>\n      <td>82</td>\n      <td>74</td>\n      <td>98</td>\n      <td>0</td>\n    </tr>\n  </tbody>\n</table>\n<p>149 rows \u00d7 5 columns</p>\n</div>", 
                        "text/plain": "     SBP  DBP  Pulse  Temperature  Level\n0    120   80     80           98      0\n1    140   83     75          100      1\n2    155  100     92          104      2\n3    115   82     79           97      0\n4    119   79     85          102      1\n5     95   65     75          101      2\n6    116   75     70           99      0\n7    100   60     79           98      2\n8    119   78     68          100      0\n9    110   69     65          102      2\n10   117   73     76           99      0\n11   130   88     84          101      1\n12   145   90     82          104      2\n13   118   75     75           99      0\n14   114   76     69           98      0\n15   105   65     60          102      2\n16   132   89     76          101      1\n17   135   87     76          100      1\n18   140   91     80          102      2\n19   119   78     70           99      0\n20   116   77     74           98      0\n21   106   68     79          103      2\n22   129   89     82          100      1\n23   126   90     80          101      1\n24   147   95     84          104      2\n25   116   78     70           98      0\n26   118   76     68           99      0\n27   128   87     80          100      1\n28   130   85     82          101      1\n29   148   92     84          104      2\n..   ...  ...    ...          ...    ...\n119  119   80     73           99      0\n120  119   79     70           98      0\n121  125   85     75          100      1\n122  126   87     77          101      1\n123  128   88     79          101      1\n124  130   85     76          100      1\n125  148   90     76          101      2\n126  147   92     80           99      2\n127  153  101     81          102      2\n128  151   99     82          103      2\n129  118   78     68           98      0\n130  119   79     70           98      0\n131  120   78     71           99      0\n132  119   78     74           98      0\n133   98   64     76           98      2\n134  104   67     84          103      2\n135  106   62     78          102      2\n136  130   87     76          100      1\n137  116   78     73           98      0\n138  118   79     69           98      0\n139  117   77     74           98      0\n140  134   86     78          100      1\n141  136   87     80          101      1\n142  139   88     81          100      1\n143  147   94     79          100      2\n144  154   99     83          103      2\n145  118   77     73           98      0\n146  125   87     79          102      1\n147  132   88     78          101      1\n148  118   82     74           98      0\n\n[149 rows x 5 columns]"
                    }, 
                    "output_type": "execute_result"
                }
            ], 
            "source": "data"
        }, 
        {
            "execution_count": 4, 
            "cell_type": "code", 
            "metadata": {}, 
            "outputs": [
                {
                    "execution_count": 4, 
                    "metadata": {}, 
                    "data": {
                        "text/plain": "False"
                    }, 
                    "output_type": "execute_result"
                }
            ], 
            "source": "data.isnull().values.any()"
        }, 
        {
            "execution_count": 5, 
            "cell_type": "code", 
            "metadata": {}, 
            "outputs": [], 
            "source": "x = data.iloc[:, :4].values  \ny = data.iloc[:, 4].values"
        }, 
        {
            "execution_count": 6, 
            "cell_type": "code", 
            "metadata": {
                "scrolled": true
            }, 
            "outputs": [
                {
                    "execution_count": 6, 
                    "metadata": {}, 
                    "data": {
                        "text/plain": "array([[120,  80,  80,  98],\n       [140,  83,  75, 100],\n       [155, 100,  92, 104],\n       [115,  82,  79,  97],\n       [119,  79,  85, 102],\n       [ 95,  65,  75, 101],\n       [116,  75,  70,  99],\n       [100,  60,  79,  98],\n       [119,  78,  68, 100],\n       [110,  69,  65, 102],\n       [117,  73,  76,  99],\n       [130,  88,  84, 101],\n       [145,  90,  82, 104],\n       [118,  75,  75,  99],\n       [114,  76,  69,  98],\n       [105,  65,  60, 102],\n       [132,  89,  76, 101],\n       [135,  87,  76, 100],\n       [140,  91,  80, 102],\n       [119,  78,  70,  99],\n       [116,  77,  74,  98],\n       [106,  68,  79, 103],\n       [129,  89,  82, 100],\n       [126,  90,  80, 101],\n       [147,  95,  84, 104],\n       [116,  78,  70,  98],\n       [118,  76,  68,  99],\n       [128,  87,  80, 100],\n       [130,  85,  82, 101],\n       [148,  92,  84, 104],\n       [100,  65,  62,  95],\n       [ 99,  60,  65,  94],\n       [119,  78,  74,  98],\n       [117,  79,  76,  99],\n       [116,  80,  74,  98],\n       [115,  78,  68,  99],\n       [126,  85,  79, 100],\n       [127,  89,  80,  98],\n       [128,  88,  79, 101],\n       [120,  78,  70, 105],\n       [118,  79,  76, 106],\n       [100,  65,  79, 100],\n       [119,  76,  72,  98],\n       [118,  79,  70,  99],\n       [117,  78,  75,  98],\n       [145,  92,  82, 101],\n       [146,  90,  80, 104],\n       [127,  85,  79, 100],\n       [126,  88,  78,  98],\n       [120,  76,  70,  98],\n       [118,  79,  76, 100],\n       [140,  99,  85, 102],\n       [128,  88,  77,  98],\n       [126,  87,  76,  99],\n       [119,  78,  70,  98],\n       [118,  77,  75,  99],\n       [104,  68,  79, 101],\n       [100,  64,  69, 104],\n       [142,  93,  80, 102],\n       [126,  85,  79,  99],\n       [127,  84,  75, 100],\n       [118,  81,  72,  98],\n       [120,  78,  70,  99],\n       [119,  80,  75,  98],\n       [118,  78,  69,  98],\n       [127,  83,  79, 100],\n       [128,  86,  64, 101],\n       [149,  96,  82, 103],\n       [148,  95,  80, 102],\n       [ 98,  60,  64, 101],\n       [101,  68,  67, 104],\n       [126,  85,  76, 100],\n       [127,  87,  78,  98],\n       [128,  88,  77,  99],\n       [120,  79,  75,  98],\n       [119,  78,  72,  98],\n       [118,  77,  70,  99],\n       [101,  67,  78, 100],\n       [104,  68,  79, 101],\n       [105,  69,  76,  99],\n       [100,  63,  80, 103],\n       [114,  78,  75,  98],\n       [116,  79,  74,  98],\n       [117,  80,  73,  99],\n       [115,  78,  70,  98],\n       [150,  96,  82, 102],\n       [151,  95,  80, 100],\n       [149,  94,  83,  99],\n       [124,  84,  76,  98],\n       [120,  80,  76,  98],\n       [119,  78,  70,  98],\n       [118,  76,  74,  98],\n       [117,  79,  73,  98],\n       [118,  79,  76, 105],\n       [120,  80,  75, 105],\n       [117,  60,  85, 100],\n       [107,  65,  80, 102],\n       [ 99,  66,  79, 102],\n       [118,  79,  73,  99],\n       [131,  86,  76,  98],\n       [132,  87,  77,  98],\n       [132,  86,  75, 102],\n       [133,  92,  79, 100],\n       [134,  87,  78,  99],\n       [135,  89,  80, 100],\n       [136,  90,  79, 101],\n       [101,  68,  70,  99],\n       [102,  67,  65, 101],\n       [ 99,  68,  66, 102],\n       [145, 100,  75, 100],\n       [146, 101,  82, 101],\n       [146,  95,  81, 100],\n       [152,  98,  75,  99],\n       [154,  99,  79, 100],\n       [118,  79,  71,  98],\n       [119,  76,  70,  99],\n       [120,  78,  69,  98],\n       [117,  79,  68,  98],\n       [116,  80,  70,  98],\n       [119,  80,  73,  99],\n       [119,  79,  70,  98],\n       [125,  85,  75, 100],\n       [126,  87,  77, 101],\n       [128,  88,  79, 101],\n       [130,  85,  76, 100],\n       [148,  90,  76, 101],\n       [147,  92,  80,  99],\n       [153, 101,  81, 102],\n       [151,  99,  82, 103],\n       [118,  78,  68,  98],\n       [119,  79,  70,  98],\n       [120,  78,  71,  99],\n       [119,  78,  74,  98],\n       [ 98,  64,  76,  98],\n       [104,  67,  84, 103],\n       [106,  62,  78, 102],\n       [130,  87,  76, 100],\n       [116,  78,  73,  98],\n       [118,  79,  69,  98],\n       [117,  77,  74,  98],\n       [134,  86,  78, 100],\n       [136,  87,  80, 101],\n       [139,  88,  81, 100],\n       [147,  94,  79, 100],\n       [154,  99,  83, 103],\n       [118,  77,  73,  98],\n       [125,  87,  79, 102],\n       [132,  88,  78, 101],\n       [118,  82,  74,  98]])"
                    }, 
                    "output_type": "execute_result"
                }
            ], 
            "source": "x"
        }, 
        {
            "execution_count": 7, 
            "cell_type": "code", 
            "metadata": {}, 
            "outputs": [], 
            "source": "from sklearn.model_selection import train_test_split  \nx_train, x_test, y_train, y_test = train_test_split(x, y, test_size=0.20, random_state=0)  "
        }, 
        {
            "execution_count": 8, 
            "cell_type": "code", 
            "metadata": {}, 
            "outputs": [
                {
                    "execution_count": 8, 
                    "metadata": {}, 
                    "data": {
                        "text/plain": "array([[ 98,  64,  76,  98],\n       [145, 100,  75, 100],\n       [126,  85,  79,  99],\n       [100,  63,  80, 103],\n       [100,  60,  79,  98],\n       [135,  89,  80, 100],\n       [134,  86,  78, 100],\n       [117,  60,  85, 100],\n       [116,  80,  70,  98],\n       [115,  78,  70,  98],\n       [117,  79,  76,  99],\n       [117,  78,  75,  98],\n       [119,  78,  70,  98],\n       [147,  95,  84, 104],\n       [127,  89,  80,  98],\n       [119,  78,  74,  98],\n       [146,  95,  81, 100],\n       [128,  88,  77,  99],\n       [132,  89,  76, 101],\n       [145,  92,  82, 101],\n       [118,  79,  76, 106],\n       [119,  78,  68, 100],\n       [150,  96,  82, 102],\n       [129,  89,  82, 100],\n       [120,  78,  70,  99],\n       [120,  80,  75, 105],\n       [119,  78,  70,  98],\n       [118,  76,  68,  99],\n       [118,  79,  70,  99],\n       [104,  67,  84, 103]])"
                    }, 
                    "output_type": "execute_result"
                }
            ], 
            "source": "x_test"
        }, 
        {
            "execution_count": 10, 
            "cell_type": "code", 
            "metadata": {}, 
            "outputs": [], 
            "source": "y_pred = classifier.predict(x_test) "
        }, 
        {
            "execution_count": 11, 
            "cell_type": "code", 
            "metadata": {}, 
            "outputs": [
                {
                    "execution_count": 11, 
                    "metadata": {}, 
                    "data": {
                        "text/plain": "array([2, 2, 1, 2, 2, 1, 1, 2, 0, 0, 0, 0, 0, 2, 1, 0, 2, 1, 1, 2, 0, 0, 2,\n       1, 0, 0, 0, 0, 0, 2])"
                    }, 
                    "output_type": "execute_result"
                }
            ], 
            "source": "y_pred"
        }, 
        {
            "execution_count": 12, 
            "cell_type": "code", 
            "metadata": {}, 
            "outputs": [
                {
                    "execution_count": 12, 
                    "metadata": {}, 
                    "data": {
                        "text/plain": "array([2, 2, 1, 2, 2, 1, 1, 1, 0, 0, 0, 0, 0, 2, 1, 0, 2, 1, 1, 2, 2, 0, 2,\n       1, 0, 2, 0, 0, 0, 2])"
                    }, 
                    "output_type": "execute_result"
                }
            ], 
            "source": "y_test"
        }, 
        {
            "execution_count": 13, 
            "cell_type": "code", 
            "metadata": {}, 
            "outputs": [
                {
                    "output_type": "stream", 
                    "name": "stdout", 
                    "text": "[[11  0  0]\n [ 0  7  1]\n [ 2  0  9]]\n             precision    recall  f1-score   support\n\n          0       0.85      1.00      0.92        11\n          1       1.00      0.88      0.93         8\n          2       0.90      0.82      0.86        11\n\navg / total       0.91      0.90      0.90        30\n\n"
                }
            ], 
            "source": "from sklearn.metrics import classification_report, confusion_matrix  \nprint(confusion_matrix(y_test, y_pred))  \nprint(classification_report(y_test, y_pred))"
        }, 
        {
            "execution_count": 16, 
            "cell_type": "code", 
            "metadata": {}, 
            "outputs": [], 
            "source": "from sklearn.metrics import accuracy_score"
        }, 
        {
            "execution_count": 17, 
            "cell_type": "code", 
            "metadata": {}, 
            "outputs": [
                {
                    "execution_count": 17, 
                    "metadata": {}, 
                    "data": {
                        "text/plain": "0.90000000000000002"
                    }, 
                    "output_type": "execute_result"
                }
            ], 
            "source": "accuracy_score(y_test,y_pred)"
        }, 
        {
            "execution_count": 18, 
            "cell_type": "code", 
            "metadata": {}, 
            "outputs": [
                {
                    "execution_count": 18, 
                    "metadata": {}, 
                    "data": {
                        "text/plain": "KNeighborsClassifier(algorithm='auto', leaf_size=30, metric='minkowski',\n           metric_params=None, n_jobs=1, n_neighbors=5, p=2,\n           weights='uniform')"
                    }, 
                    "output_type": "execute_result"
                }
            ], 
            "source": "from sklearn.neighbors import KNeighborsClassifier  \nclassifier = KNeighborsClassifier(n_neighbors=5)  \nclassifier.fit(x_train, y_train)"
        }, 
        {
            "execution_count": 19, 
            "cell_type": "code", 
            "metadata": {}, 
            "outputs": [
                {
                    "output_type": "stream", 
                    "name": "stderr", 
                    "text": "/opt/conda/envs/DSX-Python35/lib/python3.5/site-packages/sklearn/cross_validation.py:41: DeprecationWarning: This module was deprecated in version 0.18 in favor of the model_selection module into which all the refactored classes and functions are moved. Also note that the interface of the new CV iterators are different from that of this module. This module will be removed in 0.20.\n  \"This module will be removed in 0.20.\", DeprecationWarning)\n2019-05-30 06:55:50,852 - watson_machine_learning_client.metanames - WARNING - 'AUTHOR_EMAIL' meta prop is deprecated. It will be ignored.\n"
                }
            ], 
            "source": "from watson_machine_learning_client import WatsonMachineLearningAPIClient"
        }, 
        {
            "execution_count": 20, 
            "cell_type": "code", 
            "metadata": {}, 
            "outputs": [], 
            "source": "# The code was removed by Watson Studio for sharing."
        }, 
        {
            "execution_count": 21, 
            "cell_type": "code", 
            "metadata": {}, 
            "outputs": [], 
            "source": "client=WatsonMachineLearningAPIClient(wml_credentials)"
        }, 
        {
            "execution_count": 22, 
            "cell_type": "code", 
            "metadata": {}, 
            "outputs": [], 
            "source": "model_props={client.repository.ModelMetaNames.AUTHOR_NAME:\"poojitha\",\n            client.repository.ModelMetaNames.AUTHOR_EMAIL:\"poojineelam1998@gmail.com\",\n            client.repository.ModelMetaNames.NAME:\"Health monitoring\"}"
        }, 
        {
            "execution_count": 23, 
            "cell_type": "code", 
            "metadata": {}, 
            "outputs": [], 
            "source": "model_artifact=client.repository.store_model(classifier,meta_props=model_props)"
        }, 
        {
            "execution_count": 24, 
            "cell_type": "code", 
            "metadata": {}, 
            "outputs": [], 
            "source": "published_model_uid=client.repository.get_model_uid(model_artifact)"
        }, 
        {
            "execution_count": 25, 
            "cell_type": "code", 
            "metadata": {}, 
            "outputs": [
                {
                    "execution_count": 25, 
                    "metadata": {}, 
                    "data": {
                        "text/plain": "'da9c9b2b-fe47-484c-9fce-2ceb80021938'"
                    }, 
                    "output_type": "execute_result"
                }
            ], 
            "source": "published_model_uid"
        }, 
        {
            "execution_count": 26, 
            "cell_type": "code", 
            "metadata": {}, 
            "outputs": [
                {
                    "output_type": "stream", 
                    "name": "stdout", 
                    "text": "\n\n#######################################################################################\n\nSynchronous deployment creation for uid: 'da9c9b2b-fe47-484c-9fce-2ceb80021938' started\n\n#######################################################################################\n\n\nINITIALIZING\nDEPLOY_SUCCESS\n\n\n------------------------------------------------------------------------------------------------\nSuccessfully finished deployment creation, deployment_uid='9933719a-c787-4ad8-bf93-075887ec8dd7'\n------------------------------------------------------------------------------------------------\n\n\n"
                }
            ], 
            "source": "deployment=client.deployments.create(published_model_uid,name=\"Health monitoring\")"
        }, 
        {
            "execution_count": 27, 
            "cell_type": "code", 
            "metadata": {}, 
            "outputs": [], 
            "source": "scoring_endpoint=client.deployments.get_scoring_url(deployment)"
        }, 
        {
            "execution_count": 28, 
            "cell_type": "code", 
            "metadata": {}, 
            "outputs": [
                {
                    "execution_count": 28, 
                    "metadata": {}, 
                    "data": {
                        "text/plain": "'https://eu-gb.ml.cloud.ibm.com/v3/wml_instances/eb491d91-8c2c-4233-bdb4-8dd02f395021/deployments/9933719a-c787-4ad8-bf93-075887ec8dd7/online'"
                    }, 
                    "output_type": "execute_result"
                }
            ], 
            "source": "scoring_endpoint"
        }, 
        {
            "execution_count": null, 
            "cell_type": "code", 
            "metadata": {}, 
            "outputs": [], 
            "source": ""
        }
    ], 
    "metadata": {
        "kernelspec": {
            "display_name": "Python 3.5", 
            "name": "python3", 
            "language": "python"
        }, 
        "language_info": {
            "mimetype": "text/x-python", 
            "nbconvert_exporter": "python", 
            "version": "3.5.5", 
            "name": "python", 
            "file_extension": ".py", 
            "pygments_lexer": "ipython3", 
            "codemirror_mode": {
                "version": 3, 
                "name": "ipython"
            }
        }
    }, 
    "nbformat": 4
}